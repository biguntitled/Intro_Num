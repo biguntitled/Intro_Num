{
 "cells": [
  {
   "cell_type": "code",
   "execution_count": 25,
   "metadata": {},
   "outputs": [],
   "source": [
    "from HH_Lukas import HouseholdSpecializationModelClass as HC\n",
    "from types import SimpleNamespace\n",
    "import numpy as np  \n",
    "from scipy import optimize\n",
    "import ipywidgets as widgets\n",
    "import pandas as pd \n",
    "import matplotlib.pyplot as plt\n",
    "from matplotlib import cm\n",
    "\n",
    "%load_ext autoreload\n",
    "%autoreload 2"
   ]
  },
  {
   "attachments": {},
   "cell_type": "markdown",
   "metadata": {},
   "source": [
    "## Question 1"
   ]
  },
  {
   "attachments": {},
   "cell_type": "markdown",
   "metadata": {},
   "source": [
    "### First, we solve for one set of parameters: "
   ]
  },
  {
   "cell_type": "code",
   "execution_count": 26,
   "metadata": {},
   "outputs": [
    {
     "name": "stdout",
     "output_type": "stream",
     "text": [
      "The ratio of female to male hours worked at home is  0.5454545454545454\n"
     ]
    }
   ],
   "source": [
    "a = HC() #Import the whole model\n",
    "a.par.alpha = 0.25 #Set parameters\n",
    "a.par.sigma = 0.5\n",
    "a_1 = a.solve_discrete() #solve the model\n",
    "\n",
    "\n",
    "#Get hours worked for females and males and compute ratio\n",
    "HF_1 = a_1.HF  \n",
    "HM_1 = a_1.HM\n",
    "HFHM_1=HF_1/HM_1\n",
    "print('The ratio of female to male hours worked at home is ', HFHM_1)\n"
   ]
  },
  {
   "attachments": {},
   "cell_type": "markdown",
   "metadata": {},
   "source": [
    "### Set parameters to loop through"
   ]
  },
  {
   "cell_type": "code",
   "execution_count": 27,
   "metadata": {},
   "outputs": [],
   "source": [
    "#Parameters\n",
    "alphas = np.array([0.25, 0.5, 0.75])\n",
    "sigmas = np.array([0.5, 1.0, 1.5])\n",
    "#Initialize arrays for hours worked at home for males and females\n",
    "HM = np.zeros(9) \n",
    "HF = np.zeros(9)"
   ]
  },
  {
   "attachments": {},
   "cell_type": "markdown",
   "metadata": {},
   "source": [
    "#### Indexing\n",
    "Figure out an index for all nine possible combinations of the parameters. The combinations can be found using the Cartesian product of the \"alphas\" and \"sigmas\" arrays.\n"
   ]
  },
  {
   "cell_type": "code",
   "execution_count": 22,
   "metadata": {},
   "outputs": [
    {
     "name": "stdout",
     "output_type": "stream",
     "text": [
      "0 = 0 * 3 + 0\n",
      "1 = 0 * 3 + 1\n",
      "2 = 0 * 3 + 2\n",
      "3 = 1 * 3 + 0\n",
      "4 = 1 * 3 + 1\n",
      "5 = 1 * 3 + 2\n",
      "6 = 2 * 3 + 0\n",
      "7 = 2 * 3 + 1\n",
      "8 = 2 * 3 + 2\n"
     ]
    }
   ],
   "source": [
    "for i, val1 in enumerate(alphas): \n",
    "    for j, val2 in enumerate(sigmas):\n",
    "        index = i * len(sigmas) + j\n",
    "        print(index, '=',i, '*', len(sigmas), '+', j)"
   ]
  },
  {
   "attachments": {},
   "cell_type": "markdown",
   "metadata": {},
   "source": [
    "### Loop"
   ]
  },
  {
   "cell_type": "code",
   "execution_count": 28,
   "metadata": {},
   "outputs": [
    {
     "name": "stdout",
     "output_type": "stream",
     "text": [
      "[0.54545455 0.30769231 0.21428571 1.         1.         1.\n",
      " 1.83333333 3.25       4.66666667]\n"
     ]
    }
   ],
   "source": [
    "for i, val1 in enumerate(alphas): \n",
    "    a.par.alpha = val1  #Set the parameter of outer loop\n",
    "    for j, val2 in enumerate(sigmas):\n",
    "        a.par.sigma = val2 #Set parameter of inner loop \n",
    "        index = i * len(sigmas) + j \n",
    "        HM[index] = a.solve_discrete().HM\n",
    "        HF[index] = a.solve_discrete().HF\n",
    "\n",
    "Home_ratios = HF/HM \n",
    "print(Home_ratios)"
   ]
  }
 ],
 "metadata": {
  "kernelspec": {
   "display_name": "base",
   "language": "python",
   "name": "python3"
  },
  "language_info": {
   "codemirror_mode": {
    "name": "ipython",
    "version": 3
   },
   "file_extension": ".py",
   "mimetype": "text/x-python",
   "name": "python",
   "nbconvert_exporter": "python",
   "pygments_lexer": "ipython3",
   "version": "3.9.13"
  },
  "orig_nbformat": 4,
  "vscode": {
   "interpreter": {
    "hash": "7e955f0f740a88143167821a8b0fbd15a506d043cd936f8554468bc13302d823"
   }
  }
 },
 "nbformat": 4,
 "nbformat_minor": 2
}
