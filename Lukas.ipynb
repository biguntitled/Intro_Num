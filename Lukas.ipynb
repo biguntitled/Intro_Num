{
 "cells": [
  {
   "cell_type": "code",
   "execution_count": 46,
   "metadata": {},
   "outputs": [],
   "source": [
    "from HH_Lukas import HouseholdSpecializationModelClass as HC\n",
    "from types import SimpleNamespace\n",
    "import numpy as np  \n",
    "from scipy import optimize\n",
    "import ipywidgets as widgets\n",
    "import pandas as pd \n",
    "import matplotlib.pyplot as plt\n",
    "from matplotlib import cm"
   ]
  }
 ],
 "metadata": {
  "kernelspec": {
   "display_name": "base",
   "language": "python",
   "name": "python3"
  },
  "language_info": {
   "codemirror_mode": {
    "name": "ipython",
    "version": 3
   },
   "file_extension": ".py",
   "mimetype": "text/x-python",
   "name": "python",
   "nbconvert_exporter": "python",
   "pygments_lexer": "ipython3",
   "version": "3.9.13"
  },
  "orig_nbformat": 4,
  "vscode": {
   "interpreter": {
    "hash": "7e955f0f740a88143167821a8b0fbd15a506d043cd936f8554468bc13302d823"
   }
  }
 },
 "nbformat": 4,
 "nbformat_minor": 2
}
