{
 "cells": [
  {
   "cell_type": "code",
   "execution_count": 135,
   "metadata": {},
   "outputs": [],
   "source": [
    "from HH_Lukas import HouseholdSpecializationModelClass as HC\n",
    "from types import SimpleNamespace\n",
    "import numpy as np  \n",
    "from scipy import optimize\n",
    "import ipywidgets as widgets\n",
    "import pandas as pd \n",
    "import matplotlib.pyplot as plt\n",
    "from matplotlib import cm"
   ]
  },
  {
   "attachments": {},
   "cell_type": "markdown",
   "metadata": {},
   "source": [
    "## Question 1"
   ]
  },
  {
   "attachments": {},
   "cell_type": "markdown",
   "metadata": {},
   "source": [
    "### First, we solve for one set of parameters: "
   ]
  },
  {
   "cell_type": "code",
   "execution_count": 137,
   "metadata": {},
   "outputs": [
    {
     "name": "stdout",
     "output_type": "stream",
     "text": [
      "The ratio of female to male hours worked at home is  0.3076923076923077\n"
     ]
    }
   ],
   "source": [
    "a = HC()\n",
    "a.solve_discrete()\n",
    "\n",
    "a.par.alpha = 0.25\n",
    "a.par.sigma = 0.5\n",
    "a_1 = a.solve_discrete()\n",
    "\n",
    "HF_1 = a_1.HF\n",
    "HM_1 = a_1.HM\n",
    "\n",
    "HFHM_1=HF_1/HM_1\n",
    "print('The ratio of female to male hours worked at home is ', HFHM_1)\n"
   ]
  },
  {
   "cell_type": "code",
   "execution_count": 132,
   "metadata": {},
   "outputs": [
    {
     "data": {
      "text/plain": [
       "-1.0"
      ]
     },
     "execution_count": 132,
     "metadata": {},
     "output_type": "execute_result"
    }
   ],
   "source": [
    "0.5/(0.5-1)"
   ]
  },
  {
   "attachments": {},
   "cell_type": "markdown",
   "metadata": {},
   "source": [
    "### Set parameters to loop through"
   ]
  },
  {
   "cell_type": "code",
   "execution_count": 119,
   "metadata": {},
   "outputs": [],
   "source": [
    "alphas = np.array([0.25, 0.5, 0.75])\n",
    "sigmas = np.array([0.5, 1.0, 1.5])\n",
    "HM = np.zeros(9)\n",
    "HF = np.zeros(9)\n"
   ]
  },
  {
   "cell_type": "code",
   "execution_count": 122,
   "metadata": {},
   "outputs": [
    {
     "name": "stderr",
     "output_type": "stream",
     "text": [
      "/Users/l/Desktop/Programming/Intro_Num-1/HH_Lukas.py:60: RuntimeWarning: invalid value encountered in reciprocal\n",
      "  power2 = par.sigma/(par.sigma-1)\n",
      "/var/folders/yf/cbyzbr7d3hl8n98r3rphk8wh0000gn/T/ipykernel_12575/1484860990.py:8: RuntimeWarning: invalid value encountered in true_divide\n",
      "  Home_ratios = HF/HM\n"
     ]
    }
   ],
   "source": [
    "\n",
    "\n",
    "for i, val1 in enumerate(alphas): \n",
    "    a.par.alpha = val1\n",
    "    for j, val2 in enumerate(sigmas,start=1):\n",
    "        a.par.sigma = val2\n",
    "        index = i*j\n",
    "        HM[index] = a.solve_discrete().HM\n",
    "        HF[index] = a.solve_discrete().HF\n",
    "        Home_ratios = HF/HM\n",
    "        \n",
    "        "
   ]
  },
  {
   "cell_type": "code",
   "execution_count": 123,
   "metadata": {},
   "outputs": [
    {
     "data": {
      "text/plain": [
       "array([0.30769231, 1.        , 3.25      , 1.        , 3.25      ,\n",
       "              nan, 3.25      ,        nan,        nan])"
      ]
     },
     "execution_count": 123,
     "metadata": {},
     "output_type": "execute_result"
    }
   ],
   "source": [
    "Home_ratios"
   ]
  },
  {
   "cell_type": "code",
   "execution_count": 110,
   "metadata": {},
   "outputs": [
    {
     "name": "stderr",
     "output_type": "stream",
     "text": [
      "/var/folders/yf/cbyzbr7d3hl8n98r3rphk8wh0000gn/T/ipykernel_12575/449466839.py:7: RuntimeWarning: invalid value encountered in true_divide\n",
      "  Home_ratios = HF / HM\n"
     ]
    }
   ],
   "source": [
    "for i, val1 in enumerate(alphas): \n",
    "    a.par.alpha = val1\n",
    "    for j, val2 in enumerate(sigmas):\n",
    "        a.par.sigma = val2\n",
    "        HM[i*j] = i*j + 1\n",
    "        HF[i*j] = i*j + 1\n",
    "        Home_ratios = HF / HM\n",
    "        "
   ]
  },
  {
   "cell_type": "code",
   "execution_count": 112,
   "metadata": {},
   "outputs": [],
   "source": [
    "alphas = np.array([0.25, 0.5, 0.75])\n",
    "sigmas = np.array([0.5, 1.0, 1.5])\n",
    "HM = np.zeros(9)\n",
    "HF = np.zeros(9)\n",
    "\n",
    "for i, val1 in enumerate(alphas): \n",
    "    a.par.alpha = val1\n",
    "    for j, val2 in enumerate(sigmas):\n",
    "        a.par.sigma = val2\n",
    "        index = i * len(sigmas) + j\n",
    "        HM[index] = i * j + 1\n",
    "        HF[index] = i * j + 1\n",
    "\n",
    "Home_ratios = HF / HM"
   ]
  },
  {
   "cell_type": "code",
   "execution_count": 113,
   "metadata": {},
   "outputs": [
    {
     "data": {
      "text/plain": [
       "array([1., 1., 1., 1., 1., 1., 1., 1., 1.])"
      ]
     },
     "execution_count": 113,
     "metadata": {},
     "output_type": "execute_result"
    }
   ],
   "source": [
    "Home_ratios"
   ]
  },
  {
   "cell_type": "code",
   "execution_count": 106,
   "metadata": {},
   "outputs": [
    {
     "data": {
      "text/plain": [
       "array([6.5, 4.5, 6.5, 0. , 6.5, 0. , 0. , 0. , 0. ])"
      ]
     },
     "execution_count": 106,
     "metadata": {},
     "output_type": "execute_result"
    }
   ],
   "source": [
    "HF"
   ]
  },
  {
   "cell_type": "code",
   "execution_count": 107,
   "metadata": {},
   "outputs": [
    {
     "data": {
      "text/plain": [
       "array([2. , 4.5, 2. , 0. , 2. , 0. , 0. , 0. , 0. ])"
      ]
     },
     "execution_count": 107,
     "metadata": {},
     "output_type": "execute_result"
    }
   ],
   "source": [
    "HM"
   ]
  },
  {
   "cell_type": "code",
   "execution_count": 108,
   "metadata": {},
   "outputs": [
    {
     "name": "stdout",
     "output_type": "stream",
     "text": [
      "0 cat\n",
      "1 dog\n",
      "2 rabbit\n",
      "3 horse\n"
     ]
    }
   ],
   "source": [
    "animals = ['cat', 'dog', 'rabbit', 'horse']\n",
    "for idx, x in enumerate(animals):\n",
    "    print(idx, x)"
   ]
  }
 ],
 "metadata": {
  "kernelspec": {
   "display_name": "base",
   "language": "python",
   "name": "python3"
  },
  "language_info": {
   "codemirror_mode": {
    "name": "ipython",
    "version": 3
   },
   "file_extension": ".py",
   "mimetype": "text/x-python",
   "name": "python",
   "nbconvert_exporter": "python",
   "pygments_lexer": "ipython3",
   "version": "3.9.13"
  },
  "orig_nbformat": 4,
  "vscode": {
   "interpreter": {
    "hash": "7e955f0f740a88143167821a8b0fbd15a506d043cd936f8554468bc13302d823"
   }
  }
 },
 "nbformat": 4,
 "nbformat_minor": 2
}
