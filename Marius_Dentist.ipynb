{
 "cells": [
  {
   "cell_type": "code",
   "execution_count": 1,
   "metadata": {},
   "outputs": [],
   "source": [
    "import numpy as np\n",
    "from types import SimpleNamespace\n",
    "%load_ext autoreload\n",
    "%autoreload 2\n",
    "from copy import deepcopy\n",
    "import time\n",
    "from scipy import optimize\n",
    "from scipy import interpolate\n",
    "import matplotlib.pyplot as plt\n",
    "plt.rcParams.update({\"axes.grid\":True,\"grid.color\":\"black\",\"grid.alpha\":\"0.25\",\"grid.linestyle\":\"--\"})\n",
    "plt.rcParams.update({'font.size': 14})"
   ]
  },
  {
   "attachments": {},
   "cell_type": "markdown",
   "metadata": {},
   "source": [
    "# Dynamic Optimization Problem: Dentists"
   ]
  },
  {
   "attachments": {},
   "cell_type": "markdown",
   "metadata": {},
   "source": [
    "We start of by defining a set of parameters and then build our cost function that our agent is facing when deciding on going to the dentist or not. We plot our cost function. \n",
    "The basic idea is that it costs to go to the dentist every time you go, but if you postpone your check ups the total cost will increase."
   ]
  },
  {
   "cell_type": "code",
   "execution_count": 2,
   "metadata": {},
   "outputs": [],
   "source": [
    "par = SimpleNamespace()\n",
    "par.x = 0 #x being the level of usage of your teeth\n",
    "par.FC = 10 #Fixed cost of going to the dentist\n",
    "par.MC = 1.2 #Marginal cost of going to the dentist, depends on your usage of the teeth (when you last went)\n",
    "par.beta = 0.9 #Discount factor\n",
    "par.exponent = 1.5 #How bad your teeth decay if you don't see a dentist\n",
    "par.gamma = 0.1\n",
    "par.T = 3\n",
    "par.boost = 5\n",
    "par.x_max = 25  # Maximum teeth quality level\n",
    "par.threshold = 15 #threshold level to account for the severity of toothache  \n",
    "par.weight = 4 #weight of toothache severity relative to the disutility caused by tooth decay\n"
   ]
  },
  {
   "attachments": {},
   "cell_type": "markdown",
   "metadata": {},
   "source": [
    "Defining a cost function (cost_dentist) that calculates the cost of going to the dentist or not, based on input parameters."
   ]
  },
  {
   "cell_type": "code",
   "execution_count": 3,
   "metadata": {},
   "outputs": [],
   "source": [
    "def cost_dentist(par, d, x):\n",
    "    if d == 0: \n",
    "        return  0 #cost of not going to the dentist \n",
    "    if d == 1: \n",
    "        return par.FC + par.MC*x #cost of going to the dentist "
   ]
  },
  {
   "attachments": {},
   "cell_type": "markdown",
   "metadata": {},
   "source": [
    "Defining a function (teeth_decay) that reflects how a persons teeth transition over time based on input parameters."
   ]
  },
  {
   "cell_type": "code",
   "execution_count": null,
   "metadata": {},
   "outputs": [],
   "source": [
    "def teeth_decay(par, d, x_t): #How your teeth are transitioning from one time period to the next\n",
    "    if d == 0:\n",
    "        \n",
    "        x_1 = int(x_t**par.exponent) + 1 #Decay of teeth of not going based on current state (x_t), an exponent and a constant (3) \n",
    "    else:\n",
    "        x_1 = max(x_t - par.boost, 0) #improvement of going to the dentist (current state (x_t) or a maximum of a reset stage of 0)\n",
    "    return x_1"
   ]
  },
  {
   "attachments": {},
   "cell_type": "markdown",
   "metadata": {},
   "source": [
    "Defining a function (teeth_decay) that reflects how a persons teeth transition over time based on wheter a person choose to go or not go to the dentist."
   ]
  },
  {
   "cell_type": "code",
   "execution_count": 4,
   "metadata": {},
   "outputs": [],
   "source": [
    "def teeth_decay(par, d, x_t, n):\n",
    "    if d == 0:\n",
    "        n += 1\n",
    "        if n > 5:\n",
    "            x_1 = int(x_t ** (par.exponent + 3 * n)) + 1\n",
    "        else:\n",
    "            x_1 = int(x_t ** par.exponent) + 1\n",
    "    else:\n",
    "        x_1 = max(x_t - par.boost, 0)\n",
    "        n = 0\n",
    "    return x_1, n\n"
   ]
  },
  {
   "attachments": {},
   "cell_type": "markdown",
   "metadata": {},
   "source": [
    "Defining a function that implements if a person choose a healthy or non-healthy lifestyle. When healthy, the decay rate of a persons teeth will be lower compared to non-healthy aswell as the improvement will be faster when choosing to go to a dentist. "
   ]
  },
  {
   "cell_type": "code",
   "execution_count": null,
   "metadata": {},
   "outputs": [],
   "source": [
    "def teeth_decay_lifestyle(par, d, x_t, is_healthy):\n",
    "    if is_healthy:\n",
    "        if d == 0:\n",
    "            x_1 = int(x_t ** par.exponent * 0.95) + 2 # slower decay with a 5% reduction\n",
    "        else:\n",
    "            x_1 = max(x_t - par.boost * 1.2, 0) # faster improvement with a 20% boost\n",
    "    else:\n",
    "        if d == 0:\n",
    "            x_1 = int(x_t ** par.exponent * 1.05) + 4 # faster decay with a 5% increase\n",
    "        else:\n",
    "            x_1 = max(x_t - par.boost * 0.8, 0) # slower improvement with a 20% reduction\n",
    "    return x_1"
   ]
  },
  {
   "attachments": {},
   "cell_type": "markdown",
   "metadata": {},
   "source": [
    "Defining a function (disutil_ache) that calculates the disutility caused by toothache based on a persons current teeth state."
   ]
  },
  {
   "cell_type": "code",
   "execution_count": 5,
   "metadata": {},
   "outputs": [],
   "source": [
    "def disutil_ache(par, x_t): \n",
    "    disutil = (x_t**(1-par.gamma) - 1) / (1 - par.gamma)\n",
    "    return int(disutil)"
   ]
  },
  {
   "attachments": {},
   "cell_type": "markdown",
   "metadata": {},
   "source": [
    "Defining a function (disutil_ache_threshold) that calculates the disutility caused by toothache based on a persons current teeth state in relation to a threshold level"
   ]
  },
  {
   "cell_type": "code",
   "execution_count": 6,
   "metadata": {},
   "outputs": [],
   "source": [
    "def disutil_ache_threshold(par, x_t): \n",
    "    if x_t >= par.threshold:\n",
    "        disutil = (par.weight * (x_t + par.threshold))**(1 - par.gamma) / (1 - par.gamma)\n",
    "    else:\n",
    "        disutil = (x_t**(1-par.gamma) - 1) / (1 - par.gamma)\n",
    "    return int(disutil)"
   ]
  },
  {
   "attachments": {},
   "cell_type": "markdown",
   "metadata": {},
   "source": [
    "Defining a total utility function (total_util)"
   ]
  },
  {
   "cell_type": "code",
   "execution_count": 7,
   "metadata": {},
   "outputs": [],
   "source": [
    "def total_util(par, d, x_t):\n",
    "    return -cost_dentist(par, d, x_t) - disutil_ache_threshold(par, x_t)"
   ]
  },
  {
   "cell_type": "code",
   "execution_count": null,
   "metadata": {},
   "outputs": [],
   "source": [
    "for i in range(0,75):\n",
    "    print(disutil_ache_threshold(par, i))\n",
    "#Disutility is negative for i=0, which is interpreted as having no toothache. \n",
    "#Disutility increases as i increases, indicating that toothache becomes more \n",
    "#unpleasant as the severity of the toothache increases"
   ]
  },
  {
   "cell_type": "code",
   "execution_count": 10,
   "metadata": {},
   "outputs": [
    {
     "ename": "TypeError",
     "evalue": "teeth_decay() missing 2 required positional arguments: 'x_t' and 'n'",
     "output_type": "error",
     "traceback": [
      "\u001b[1;31m---------------------------------------------------------------------------\u001b[0m",
      "\u001b[1;31mTypeError\u001b[0m                                 Traceback (most recent call last)",
      "\u001b[1;32m~\\AppData\\Local\\Temp\\ipykernel_21608\\768623435.py\u001b[0m in \u001b[0;36m<module>\u001b[1;34m\u001b[0m\n\u001b[0;32m     12\u001b[0m     \u001b[0mc_not_going\u001b[0m\u001b[1;33m.\u001b[0m\u001b[0mappend\u001b[0m\u001b[1;33m(\u001b[0m\u001b[0mcost_dentist\u001b[0m\u001b[1;33m(\u001b[0m\u001b[0mpar\u001b[0m\u001b[1;33m,\u001b[0m\u001b[1;36m0\u001b[0m\u001b[1;33m,\u001b[0m \u001b[0mi\u001b[0m\u001b[1;33m)\u001b[0m \u001b[1;33m+\u001b[0m \u001b[0mdisutil_ache\u001b[0m\u001b[1;33m(\u001b[0m\u001b[0mpar\u001b[0m\u001b[1;33m,\u001b[0m \u001b[0mi\u001b[0m\u001b[1;33m)\u001b[0m\u001b[1;33m)\u001b[0m\u001b[1;33m\u001b[0m\u001b[1;33m\u001b[0m\u001b[0m\n\u001b[0;32m     13\u001b[0m     \u001b[1;31m#c_not_going_threshold.append(cost_dentist(par,0, i) + disutil_ache_threshold(par, i))\u001b[0m\u001b[1;33m\u001b[0m\u001b[1;33m\u001b[0m\u001b[0m\n\u001b[1;32m---> 14\u001b[1;33m     \u001b[0mdecay_going\u001b[0m\u001b[1;33m.\u001b[0m\u001b[0mappend\u001b[0m\u001b[1;33m(\u001b[0m\u001b[0mteeth_decay\u001b[0m\u001b[1;33m(\u001b[0m\u001b[0mpar\u001b[0m\u001b[1;33m,\u001b[0m \u001b[0mi\u001b[0m\u001b[1;33m)\u001b[0m\u001b[1;33m)\u001b[0m\u001b[1;33m\u001b[0m\u001b[1;33m\u001b[0m\u001b[0m\n\u001b[0m\u001b[0;32m     15\u001b[0m     \u001b[0mdecay_not_going\u001b[0m\u001b[1;33m.\u001b[0m\u001b[0mappend\u001b[0m\u001b[1;33m(\u001b[0m\u001b[0mteeth_decay\u001b[0m\u001b[1;33m(\u001b[0m\u001b[0mpar\u001b[0m\u001b[1;33m,\u001b[0m \u001b[0mi\u001b[0m\u001b[1;33m)\u001b[0m\u001b[1;33m)\u001b[0m\u001b[1;33m\u001b[0m\u001b[1;33m\u001b[0m\u001b[0m\n\u001b[0;32m     16\u001b[0m     \u001b[1;31m#decay_lifestyle_going.append(teeth_decay_lifestyle(par, 1, i, is_healthy=1))\u001b[0m\u001b[1;33m\u001b[0m\u001b[1;33m\u001b[0m\u001b[0m\n",
      "\u001b[1;31mTypeError\u001b[0m: teeth_decay() missing 2 required positional arguments: 'x_t' and 'n'"
     ]
    }
   ],
   "source": [
    "c_going = []\n",
    "c_not_going = []\n",
    "c_not_going_threshold = []\n",
    "expo = []\n",
    "logo = []\n",
    "decay_going = []\n",
    "decay_not_going = []\n",
    "#decay_lifestyle_going = []\n",
    "#decay_lifestyle_not_going = []\n",
    "for i in range(0,30):\n",
    "    c_going.append(cost_dentist(par,1, i))\n",
    "    c_not_going.append(cost_dentist(par,0, i) + disutil_ache(par, i))\n",
    "    #c_not_going_threshold.append(cost_dentist(par,0, i) + disutil_ache_threshold(par, i))\n",
    "    decay_going.append(teeth_decay(par, i))\n",
    "    decay_not_going.append(teeth_decay(par, i))\n",
    "    #decay_lifestyle_going.append(teeth_decay_lifestyle(par, 1, i, is_healthy=1))\n",
    "    #decay_lifestyle_not_going.append(teeth_decay_lifestyle(par, 0, i, is_healthy=0))\n",
    "    #def teeth_decay_lifestyle(par, d, x_t, is_healthy):    \n",
    "\n",
    "plt.plot(c_going, label='Cost of going to the dentist')\n",
    "plt.plot(c_not_going, label='Cost of not going to the dentist')\n",
    "#plt.plot(c_not_going_threshold, label='Cost of not going to the dentist with threshold')\n",
    "plt.plot(decay_going, label='Teeth decay going')\n",
    "plt.plot(decay_not_going, label='Teeth decay not going')\n",
    "#plt.plot(decay_lifestyle_going='teeth decay going healthy')\n",
    "#plt.plot(decay_lifestyle_not_going='teeth decay not going healthy')\n",
    "plt.title('Cost of going to the dentist for different usage levels of teeth')\n",
    "plt.legend(fontsize=12)\n",
    "plt.show()\n"
   ]
  },
  {
   "attachments": {},
   "cell_type": "markdown",
   "metadata": {},
   "source": [
    "Lukas Code"
   ]
  },
  {
   "cell_type": "code",
   "execution_count": null,
   "metadata": {},
   "outputs": [],
   "source": [
    "par.T"
   ]
  },
  {
   "cell_type": "code",
   "execution_count": null,
   "metadata": {},
   "outputs": [],
   "source": [
    "par.x_max"
   ]
  },
  {
   "cell_type": "code",
   "execution_count": null,
   "metadata": {},
   "outputs": [],
   "source": [
    "#par.MC = 1\n",
    "#par.FC = 1000\n",
    "#par.beta = 0.3\n",
    "#par.gamma = 0.1\n",
    "#par.exponent = 1.1"
   ]
  },
  {
   "cell_type": "code",
   "execution_count": 13,
   "metadata": {},
   "outputs": [
    {
     "ename": "NameError",
     "evalue": "name 'x_t' is not defined",
     "output_type": "error",
     "traceback": [
      "\u001b[1;31m---------------------------------------------------------------------------\u001b[0m",
      "\u001b[1;31mNameError\u001b[0m                                 Traceback (most recent call last)",
      "\u001b[1;32m~\\AppData\\Local\\Temp\\ipykernel_21608\\3577855689.py\u001b[0m in \u001b[0;36m<module>\u001b[1;34m\u001b[0m\n\u001b[0;32m     19\u001b[0m                 \u001b[1;31m# Calculate cost of current decision\u001b[0m\u001b[1;33m\u001b[0m\u001b[1;33m\u001b[0m\u001b[0m\n\u001b[0;32m     20\u001b[0m                 \u001b[0mcost\u001b[0m \u001b[1;33m=\u001b[0m \u001b[0mcost_dentist\u001b[0m\u001b[1;33m(\u001b[0m\u001b[0mpar\u001b[0m\u001b[1;33m,\u001b[0m \u001b[0md\u001b[0m\u001b[1;33m,\u001b[0m \u001b[0mx\u001b[0m\u001b[1;33m)\u001b[0m\u001b[1;33m\u001b[0m\u001b[1;33m\u001b[0m\u001b[0m\n\u001b[1;32m---> 21\u001b[1;33m                 \u001b[0mdecay\u001b[0m \u001b[1;33m=\u001b[0m \u001b[0mteeth_decay\u001b[0m\u001b[1;33m(\u001b[0m\u001b[0mpar\u001b[0m\u001b[1;33m,\u001b[0m \u001b[0md\u001b[0m\u001b[1;33m,\u001b[0m \u001b[0mx_t\u001b[0m\u001b[1;33m,\u001b[0m \u001b[0mn\u001b[0m\u001b[1;33m)\u001b[0m\u001b[1;33m\u001b[0m\u001b[1;33m\u001b[0m\u001b[0m\n\u001b[0m\u001b[0;32m     22\u001b[0m                 \u001b[0mache\u001b[0m \u001b[1;33m=\u001b[0m \u001b[0mdisutil_ache\u001b[0m\u001b[1;33m(\u001b[0m\u001b[0mpar\u001b[0m\u001b[1;33m,\u001b[0m \u001b[0mx\u001b[0m\u001b[1;33m)\u001b[0m\u001b[1;33m\u001b[0m\u001b[1;33m\u001b[0m\u001b[0m\n\u001b[0;32m     23\u001b[0m                 \u001b[0mfuture_cost\u001b[0m \u001b[1;33m=\u001b[0m \u001b[0mpar\u001b[0m\u001b[1;33m.\u001b[0m\u001b[0mbeta\u001b[0m\u001b[1;33m*\u001b[0m\u001b[0mV\u001b[0m\u001b[1;33m[\u001b[0m\u001b[0mx\u001b[0m\u001b[1;33m,\u001b[0m\u001b[0mt\u001b[0m\u001b[1;33m-\u001b[0m\u001b[1;36m1\u001b[0m\u001b[1;33m]\u001b[0m\u001b[1;33m\u001b[0m\u001b[1;33m\u001b[0m\u001b[0m\n",
      "\u001b[1;31mNameError\u001b[0m: name 'x_t' is not defined"
     ]
    }
   ],
   "source": [
    "# Initialize value function\n",
    "V = np.zeros((par.x_max+1,par.T))\n",
    "\n",
    "# Iterate over time periods\n",
    "for t in range(par.T-1, -1, -1):\n",
    "    # Iterate over teeth quality levels\n",
    "    for x in range(par.x_max+1):\n",
    "        # Initialize variables\n",
    "        min_cost = np.inf\n",
    "        best_d = None\n",
    "\n",
    "        if t == par.T: \n",
    "            total_cost = disutil_ache(par, x) ##Don't go to the dentist in the last time period, but endure pain\n",
    "            best_d = 0\n",
    "        \n",
    "        else: \n",
    "            # Iterate over possible decisions\n",
    "            for d in [0, 1]:\n",
    "                # Calculate cost of current decision\n",
    "                cost = cost_dentist(par, d, x)\n",
    "                decay = teeth_decay(par, d, x_t, n)\n",
    "                ache = disutil_ache(par, x)\n",
    "                future_cost = par.beta*V[x,t-1]\n",
    "                total_cost = cost + future_cost + ache\n",
    "                \n",
    "        # Update minimum cost and best decision\n",
    "        if total_cost < min_cost:\n",
    "            min_cost = total_cost\n",
    "            best_d = d\n",
    "            \n",
    "        # Update value function\n",
    "        V[x,t] = min_cost\n",
    "        \n",
    "        # Save best decision\n",
    "        if best_d == 0:\n",
    "            decision = 'Do not go to the dentist'\n",
    "        else:\n",
    "            decision = 'Go to the dentist'\n",
    "        \n",
    "        # Print results\n",
    "        print(f\"Time period: {t}, Teeth quality level: {x}, Best decision: {decision}, Expected cost: {min_cost}\")"
   ]
  },
  {
   "cell_type": "code",
   "execution_count": null,
   "metadata": {},
   "outputs": [],
   "source": [
    "V"
   ]
  },
  {
   "attachments": {},
   "cell_type": "markdown",
   "metadata": {},
   "source": [
    "# Version 2"
   ]
  },
  {
   "cell_type": "code",
   "execution_count": null,
   "metadata": {},
   "outputs": [],
   "source": [
    "import numpy as np\n",
    "from collections import namedtuple\n",
    "import matplotlib.pyplot as plt\n",
    "plt.rcParams.update({\"axes.grid\":True,\"grid.color\":\"black\",\"grid.alpha\":\"0.25\",\"grid.linestyle\":\"--\"})\n",
    "plt.rcParams.update({'font.size': 14})\n",
    "\n",
    "# Define the parameters for the dentist model\n",
    "DentistParams = namedtuple('DentistParams', ['FC', 'MC', 'alpha', 'beta', 'gamma', 'pr', 'budget'])\n",
    "par = DentistParams(FC=10, MC=2, alpha=0.5, beta=0.95, gamma=0.5, pr=0.8, budget=20)\n",
    "\n",
    "# Define the initial conditions for the model\n",
    "x0 = 0\n",
    "T = 5\n",
    "\n",
    "# Solve the dentist model and print the results\n",
    "x, c, u, cost, discounted_utility, d, total_discounted_utility, total_cost = solve_dentist_model(par, x0, T)\n",
    "print(\"x: \", x)\n",
    "print(\"c: \", c)\n",
    "print(\"u: \", u)\n",
    "print(\"cost: \", cost)\n",
    "print(\"discounted_utility: \", discounted_utility)\n",
    "print(\"d: \", d)\n",
    "print(\"total_discounted_utility: \", total_discounted_utility)\n",
    "print(\"total_cost: \", total_cost)\n",
    "plt.plot(u)\n",
    "plt.plot(x)\n",
    "plt.plot(c)\n",
    "plt.plot(d)\n",
    "plt.plot(cost)\n",
    "plt.plot(discounted_utility)\n",
    "plt.plot(total_discounted_utility)\n",
    "plt.plot(total_cost)\n"
   ]
  },
  {
   "cell_type": "code",
   "execution_count": null,
   "metadata": {},
   "outputs": [],
   "source": [
    "par = SimpleNamespace()\n",
    "par.x = 0 #x being the level of usage of your teeth\n",
    "par.FC = 10 #Fixed cost of going to the dentist\n",
    "par.MC = 2 #Marginal cost of going to the dentist, depends on your usage of the teeth (when you last went)\n",
    "par.alpha = 0.5#parameter in the utility function \n",
    "par.beta = 0.9 #Discount factor\n",
    "par.gamma = 1.5 #How bad your teeth decay if you don't see a dentist\n",
    "par.pr = 0.1 #the probability of needing a filling \n"
   ]
  },
  {
   "cell_type": "code",
   "execution_count": null,
   "metadata": {},
   "outputs": [],
   "source": [
    "def solve_dentist_model(par, x, T):\n",
    "    # Initialize arrays to store results\n",
    "    x = np.zeros(T+1)\n",
    "    c = np.zeros(T+1)\n",
    "    u = np.zeros(T+1)\n",
    "    cost = np.zeros(T+1)\n",
    "    discounted_utility = np.zeros(T+1)\n",
    "    d = np.zeros(T+1, dtype=int)\n",
    "\n",
    "    # Set initial values\n",
    "    x[0] = 0\n",
    "    c[0] = 0\n",
    "    u[0] = 0\n",
    "    cost[0] = 0\n",
    "    discounted_utility[0] = 0\n",
    "    d[0] = 0\n",
    "\n",
    "    for t in range(1, T+1):\n",
    "        # Compute costs and benefits of going to the dentist and not going\n",
    "        cost_dentist = par.FC + par.MC * x[t-1]\n",
    "        discounted_utility_dentist = (par.alpha * x[t-1]**par.gamma) / (1 + par.beta)\n",
    "        utility_no_dentist = (x[t-1]**par.gamma) / (1 + par.beta**(t-1))\n",
    "\n",
    "        # Compute expected utility of going to the dentist and not going\n",
    "        expected_utility_dentist = par.pr * discounted_utility_dentist + (1 - par.pr) * utility_no_dentist\n",
    "        expected_utility_no_dentist = utility_no_dentist\n",
    "\n",
    "        # Choose action that maximizes expected utility\n",
    "        if expected_utility_dentist >= expected_utility_no_dentist and cost_dentist <= par.budget:\n",
    "            x[t] = x[t-1] + 1\n",
    "            c[t] = cost_dentist\n",
    "            u[t] = discounted_utility_dentist\n",
    "            cost[t] = cost_dentist\n",
    "            discounted_utility[t] = discounted_utility_dentist\n",
    "            d[t] = 1\n",
    "        else:\n",
    "            x[t] = x[t-1]\n",
    "            c[t] = 0\n",
    "            u[t] = utility_no_dentist\n",
    "            cost[t] = 0\n",
    "            discounted_utility[t] = utility_no_dentist\n",
    "            d[t] = 0\n",
    "    \n",
    "            \n",
    "\n",
    "    # Compute total discounted utility and cost\n",
    "    total_discounted_utility = np.sum(discounted_utility)\n",
    "    total_cost = np.sum(cost)\n",
    "\n",
    "    # Return results\n",
    "    return x, c, u, cost, discounted_utility, d, total_discounted_utility, total_cost\n",
    "\n"
   ]
  },
  {
   "cell_type": "code",
   "execution_count": null,
   "metadata": {},
   "outputs": [],
   "source": [
    "# Print the results\n",
    "print(\"x:\", x)\n",
    "print(\"c:\", c)\n",
    "print(\"u:\", u)\n",
    "print(\"cost:\", cost)\n",
    "print(\"discounted_utility:\", discounted_utility)\n",
    "print(\"d:\", d)\n",
    "print(\"total_discounted_utility:\", total_discounted_utility)\n",
    "print(\"total_cost:\", total_cost)"
   ]
  },
  {
   "attachments": {},
   "cell_type": "markdown",
   "metadata": {},
   "source": [
    "### Possible extensions: \n",
    "\n",
    "° Income and savings \n",
    "\n",
    "° Life style choices (healthy or unhealthy) with different impacts on x.\n",
    "\n",
    "° Varying MC and FC\n",
    "\n",
    "° Age impacting decay of teeth. Say after 50 years, consequences of not going (increase in x if d=0) goes up. Or marginal cost could double.\n",
    "\n",
    "° Implementing a subsidy of one dollar. Does it make more sense to subsidize the marginal or the fixed cost. "
   ]
  }
 ],
 "metadata": {
  "kernelspec": {
   "display_name": "base",
   "language": "python",
   "name": "python3"
  },
  "language_info": {
   "codemirror_mode": {
    "name": "ipython",
    "version": 3
   },
   "file_extension": ".py",
   "mimetype": "text/x-python",
   "name": "python",
   "nbconvert_exporter": "python",
   "pygments_lexer": "ipython3",
   "version": "3.9.16"
  },
  "orig_nbformat": 4
 },
 "nbformat": 4,
 "nbformat_minor": 2
}
