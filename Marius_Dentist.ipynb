{
 "cells": [
  {
   "cell_type": "code",
   "execution_count": 1,
   "metadata": {},
   "outputs": [],
   "source": [
    "import numpy as np\n",
    "from types import SimpleNamespace\n",
    "%load_ext autoreload\n",
    "%autoreload 2\n",
    "from copy import deepcopy\n",
    "import time\n",
    "from scipy import optimize\n",
    "from scipy import interpolate\n",
    "import matplotlib.pyplot as plt\n",
    "plt.rcParams.update({\"axes.grid\":True,\"grid.color\":\"black\",\"grid.alpha\":\"0.25\",\"grid.linestyle\":\"--\"})\n",
    "plt.rcParams.update({'font.size': 14})"
   ]
  },
  {
   "attachments": {},
   "cell_type": "markdown",
   "metadata": {},
   "source": [
    "# Dynamic Optimization Problem: Dentists"
   ]
  },
  {
   "attachments": {},
   "cell_type": "markdown",
   "metadata": {},
   "source": [
    "We start of by defining a set of parameters and then build our cost function that our agent is facing when deciding on going to the dentist or not. We plot our cost function. \n",
    "The basic idea is that it costs to go to the dentist every time you go, but if you postpone your check ups the total cost will increase."
   ]
  },
  {
   "cell_type": "code",
   "execution_count": 2,
   "metadata": {},
   "outputs": [],
   "source": [
    "par = SimpleNamespace()\n",
    "par.x = 0 #x being the level of usage of your teeth\n",
    "par.FC = 10 #Fixed cost of going to the dentist\n",
    "par.MC = 1.2 #Marginal cost of going to the dentist, depends on your usage of the teeth (when you last went)\n",
    "par.beta = 0.9 #Discount factor\n",
    "par.exponent = 1.5 #How bad your teeth decay if you don't see a dentist\n",
    "par.gamma = 0.1\n",
    "par.T = 3\n",
    "par.boost = 5\n",
    "par.threshold = 40 #threshold level to account for the severity of toothache  \n",
    "par.weight = 1.3 #weight of toothache severity relative to the disutility caused by tooth decay"
   ]
  },
  {
   "attachments": {},
   "cell_type": "markdown",
   "metadata": {},
   "source": [
    "Defining a cost function (cost_dentist) that calculates the cost of going to the dentist or not, based on input parameters."
   ]
  },
  {
   "cell_type": "code",
   "execution_count": 3,
   "metadata": {},
   "outputs": [],
   "source": [
    "def cost_dentist(par, d, x):\n",
    "    if d == 0: \n",
    "        return  0 #cost of not going to the dentist \n",
    "    if d == 1: \n",
    "        return par.FC + par.MC*x #cost of going to the dentist "
   ]
  },
  {
   "attachments": {},
   "cell_type": "markdown",
   "metadata": {},
   "source": [
    "Defining a function (teeth_decay) that reflects how a persons teeth transition over time based on input parameters."
   ]
  },
  {
   "cell_type": "code",
   "execution_count": 4,
   "metadata": {},
   "outputs": [],
   "source": [
    "def teeth_decay(par, d, x_t): #How your teeth are transitioning from one time period to the next\n",
    "    if d == 0:\n",
    "        \n",
    "        x_1 = int(x_t**par.exponent) + 3 #Decay of teeth of not going based on current state (x_t), an exponent and a constant (3) \n",
    "    else:\n",
    "        x_1 = max(x_t - par.boost, 0) #improvement of going to the dentist (current state (x_t) or a maximum of a reset stage of 0)\n",
    "    return x_1"
   ]
  },
  {
   "attachments": {},
   "cell_type": "markdown",
   "metadata": {},
   "source": [
    "Defining a function that implements if a person choose a healthy or non-healthy lifestyle. When healthy, the decay rate of a persons teeth will be lower compared to non-healthy aswell as the improvement will be faster when choosing to go to a dentist. "
   ]
  },
  {
   "cell_type": "code",
   "execution_count": 18,
   "metadata": {},
   "outputs": [],
   "source": [
    "def teeth_decay_lifestyle(par, d, x_t, is_healthy):\n",
    "    if is_healthy:\n",
    "        if d == 0:\n",
    "            x_1 = int(x_t ** par.exponent * 0.95) + 2 # slower decay with a 5% reduction\n",
    "        else:\n",
    "            x_1 = max(x_t - par.boost * 1.2, 0) # faster improvement with a 20% boost\n",
    "    else:\n",
    "        if d == 0:\n",
    "            x_1 = int(x_t ** par.exponent * 1.05) + 4 # faster decay with a 5% increase\n",
    "        else:\n",
    "            x_1 = max(x_t - par.boost * 0.8, 0) # slower improvement with a 20% reduction\n",
    "    return x_1"
   ]
  },
  {
   "attachments": {},
   "cell_type": "markdown",
   "metadata": {},
   "source": [
    "Defining a function (disutil_ache) that calculates the disutility caused by toothache based on a persons current teeth state."
   ]
  },
  {
   "cell_type": "code",
   "execution_count": 5,
   "metadata": {},
   "outputs": [],
   "source": [
    "def disutil_ache(par, x_t): \n",
    "    disutil = (x_t**(1-par.gamma) - 1) / (1 - par.gamma)\n",
    "    return int(disutil)"
   ]
  },
  {
   "attachments": {},
   "cell_type": "markdown",
   "metadata": {},
   "source": [
    "Defining a function (disutil_ache_threshold) that calculates the disutility caused by toothache based on a persons current teeth state in relation to a threshold level"
   ]
  },
  {
   "cell_type": "code",
   "execution_count": 6,
   "metadata": {},
   "outputs": [],
   "source": [
    "def disutil_ache_threshold(par, x_t): \n",
    "    if x_t >= par.threshold:\n",
    "        disutil = (par.weight * (x_t + par.threshold))**(1 - par.gamma) / (1 - par.gamma)\n",
    "    else:\n",
    "        disutil = (x_t**(1-par.gamma) - 1) / (1 - par.gamma)\n",
    "    return int(disutil)"
   ]
  },
  {
   "attachments": {},
   "cell_type": "markdown",
   "metadata": {},
   "source": [
    "Defining a total utility function (total_util)"
   ]
  },
  {
   "cell_type": "code",
   "execution_count": 7,
   "metadata": {},
   "outputs": [],
   "source": [
    "def total_util(par, d, x_t):\n",
    "    return -cost_dentist(par, d, x_t) - disutil_ache_threshold(par, x_t)"
   ]
  },
  {
   "cell_type": "code",
   "execution_count": 8,
   "metadata": {},
   "outputs": [
    {
     "name": "stdout",
     "output_type": "stream",
     "text": [
      "-1\n",
      "0\n",
      "0\n",
      "1\n",
      "2\n",
      "3\n",
      "4\n",
      "5\n",
      "6\n",
      "6\n",
      "7\n",
      "8\n",
      "9\n",
      "10\n",
      "10\n",
      "11\n",
      "12\n",
      "13\n",
      "13\n",
      "14\n",
      "15\n",
      "16\n",
      "16\n",
      "17\n",
      "18\n",
      "19\n",
      "19\n",
      "20\n",
      "21\n",
      "21\n",
      "22\n",
      "23\n",
      "24\n",
      "24\n",
      "25\n",
      "26\n",
      "26\n",
      "27\n",
      "28\n",
      "28\n",
      "72\n",
      "73\n",
      "74\n",
      "75\n",
      "75\n",
      "76\n",
      "77\n",
      "78\n",
      "79\n",
      "79\n",
      "80\n",
      "81\n",
      "82\n",
      "83\n",
      "83\n",
      "84\n",
      "85\n",
      "86\n",
      "87\n",
      "87\n",
      "88\n",
      "89\n",
      "90\n",
      "91\n",
      "91\n",
      "92\n",
      "93\n",
      "94\n",
      "95\n",
      "95\n",
      "96\n",
      "97\n",
      "98\n",
      "99\n",
      "99\n"
     ]
    }
   ],
   "source": [
    "for i in range(0,75):\n",
    "    print(disutil_ache_threshold(par, i))\n",
    "#Disutility is negative for i=0, which is interpreted as having no toothache. \n",
    "#Disutility increases as i increases, indicating that toothache becomes more \n",
    "#unpleasant as the severity of the toothache increases"
   ]
  },
  {
   "cell_type": "code",
   "execution_count": 30,
   "metadata": {},
   "outputs": [
    {
     "data": {
      "image/png": "[encoded data removed]",
      "text/plain": [
       "<Figure size 640x480 with 1 Axes>"
      ]
     },
     "metadata": {},
     "output_type": "display_data"
    }
   ],
   "source": [
    "c_going = []\n",
    "c_not_going = []\n",
    "c_not_going_threshold = []\n",
    "expo = []\n",
    "logo = []\n",
    "decay_going = []\n",
    "decay_not_going = []\n",
    "#decay_lifestyle_going = []\n",
    "#decay_lifestyle_not_going = []\n",
    "for i in range(0,60):\n",
    "    c_going.append(cost_dentist(par,1, i))\n",
    "    c_not_going.append(cost_dentist(par,0, i) + disutil_ache(par, i))\n",
    "    c_not_going_threshold.append(cost_dentist(par,0, i) + disutil_ache_threshold(par, i))\n",
    "    decay_going.append(teeth_decay(par, 1, i))\n",
    "    decay_not_going.append(teeth_decay(par, 0, i))\n",
    "    #decay_lifestyle_going.append(teeth_decay_lifestyle(par, 1, i, is_healthy=1))\n",
    "    #decay_lifestyle_not_going.append(teeth_decay_lifestyle(par, 0, i, is_healthy=0))\n",
    "    #def teeth_decay_lifestyle(par, d, x_t, is_healthy):    \n",
    "\n",
    "plt.plot(c_going, label='Cost of going to the dentist')\n",
    "plt.plot(c_not_going, label='Cost of not going to the dentist')\n",
    "plt.plot(c_not_going_threshold, label='Cost of not going to the dentist with threshold')\n",
    "plt.plot(decay_going, label='Teeth decay going')\n",
    "plt.plot(decay_not_going, label='Teeth decay not going')\n",
    "#plt.plot(decay_lifestyle_going='teeth decay going healthy')\n",
    "#plt.plot(decay_lifestyle_not_going='teeth decay not going healthy')\n",
    "plt.title('Cost of going to the dentist for different usage levels of teeth')\n",
    "plt.legend(fontsize=12)\n",
    "plt.show()\n"
   ]
  },
  {
   "attachments": {},
   "cell_type": "markdown",
   "metadata": {},
   "source": [
    "# Version 2"
   ]
  },
  {
   "cell_type": "code",
   "execution_count": null,
   "metadata": {},
   "outputs": [],
   "source": [
    "import numpy as np\n",
    "from collections import namedtuple\n",
    "import matplotlib.pyplot as plt\n",
    "plt.rcParams.update({\"axes.grid\":True,\"grid.color\":\"black\",\"grid.alpha\":\"0.25\",\"grid.linestyle\":\"--\"})\n",
    "plt.rcParams.update({'font.size': 14})\n",
    "\n",
    "# Define the parameters for the dentist model\n",
    "DentistParams = namedtuple('DentistParams', ['FC', 'MC', 'alpha', 'beta', 'gamma', 'pr', 'budget'])\n",
    "par = DentistParams(FC=10, MC=2, alpha=0.5, beta=0.95, gamma=0.5, pr=0.8, budget=20)\n",
    "\n",
    "# Define the initial conditions for the model\n",
    "x0 = 0\n",
    "T = 5\n",
    "\n",
    "# Solve the dentist model and print the results\n",
    "x, c, u, cost, discounted_utility, d, total_discounted_utility, total_cost = solve_dentist_model(par, x0, T)\n",
    "print(\"x: \", x)\n",
    "print(\"c: \", c)\n",
    "print(\"u: \", u)\n",
    "print(\"cost: \", cost)\n",
    "print(\"discounted_utility: \", discounted_utility)\n",
    "print(\"d: \", d)\n",
    "print(\"total_discounted_utility: \", total_discounted_utility)\n",
    "print(\"total_cost: \", total_cost)\n",
    "plt.plot(u)\n",
    "plt.plot(x)\n",
    "plt.plot(c)\n",
    "plt.plot(d)\n",
    "plt.plot(cost)\n",
    "plt.plot(discounted_utility)\n",
    "plt.plot(total_discounted_utility)\n",
    "plt.plot(total_cost)\n"
   ]
  },
  {
   "cell_type": "code",
   "execution_count": null,
   "metadata": {},
   "outputs": [],
   "source": [
    "par = SimpleNamespace()\n",
    "par.x = 0 #x being the level of usage of your teeth\n",
    "par.FC = 10 #Fixed cost of going to the dentist\n",
    "par.MC = 2 #Marginal cost of going to the dentist, depends on your usage of the teeth (when you last went)\n",
    "par.alpha = 0.5#parameter in the utility function \n",
    "par.beta = 0.9 #Discount factor\n",
    "par.gamma = 1.5 #How bad your teeth decay if you don't see a dentist\n",
    "par.pr = 0.1 #the probability of needing a filling \n"
   ]
  },
  {
   "cell_type": "code",
   "execution_count": null,
   "metadata": {},
   "outputs": [],
   "source": [
    "def solve_dentist_model(par, x, T):\n",
    "    # Initialize arrays to store results\n",
    "    x = np.zeros(T+1)\n",
    "    c = np.zeros(T+1)\n",
    "    u = np.zeros(T+1)\n",
    "    cost = np.zeros(T+1)\n",
    "    discounted_utility = np.zeros(T+1)\n",
    "    d = np.zeros(T+1, dtype=int)\n",
    "\n",
    "    # Set initial values\n",
    "    x[0] = 0\n",
    "    c[0] = 0\n",
    "    u[0] = 0\n",
    "    cost[0] = 0\n",
    "    discounted_utility[0] = 0\n",
    "    d[0] = 0\n",
    "\n",
    "    for t in range(1, T+1):\n",
    "        # Compute costs and benefits of going to the dentist and not going\n",
    "        cost_dentist = par.FC + par.MC * x[t-1]\n",
    "        discounted_utility_dentist = (par.alpha * x[t-1]**par.gamma) / (1 + par.beta)\n",
    "        utility_no_dentist = (x[t-1]**par.gamma) / (1 + par.beta**(t-1))\n",
    "\n",
    "        # Compute expected utility of going to the dentist and not going\n",
    "        expected_utility_dentist = par.pr * discounted_utility_dentist + (1 - par.pr) * utility_no_dentist\n",
    "        expected_utility_no_dentist = utility_no_dentist\n",
    "\n",
    "        # Choose action that maximizes expected utility\n",
    "        if expected_utility_dentist >= expected_utility_no_dentist and cost_dentist <= par.budget:\n",
    "            x[t] = x[t-1] + 1\n",
    "            c[t] = cost_dentist\n",
    "            u[t] = discounted_utility_dentist\n",
    "            cost[t] = cost_dentist\n",
    "            discounted_utility[t] = discounted_utility_dentist\n",
    "            d[t] = 1\n",
    "        else:\n",
    "            x[t] = x[t-1]\n",
    "            c[t] = 0\n",
    "            u[t] = utility_no_dentist\n",
    "            cost[t] = 0\n",
    "            discounted_utility[t] = utility_no_dentist\n",
    "            d[t] = 0\n",
    "    \n",
    "            \n",
    "\n",
    "    # Compute total discounted utility and cost\n",
    "    total_discounted_utility = np.sum(discounted_utility)\n",
    "    total_cost = np.sum(cost)\n",
    "\n",
    "    # Return results\n",
    "    return x, c, u, cost, discounted_utility, d, total_discounted_utility, total_cost\n",
    "\n"
   ]
  },
  {
   "cell_type": "code",
   "execution_count": null,
   "metadata": {},
   "outputs": [],
   "source": [
    "# Print the results\n",
    "print(\"x:\", x)\n",
    "print(\"c:\", c)\n",
    "print(\"u:\", u)\n",
    "print(\"cost:\", cost)\n",
    "print(\"discounted_utility:\", discounted_utility)\n",
    "print(\"d:\", d)\n",
    "print(\"total_discounted_utility:\", total_discounted_utility)\n",
    "print(\"total_cost:\", total_cost)"
   ]
  },
  {
   "attachments": {},
   "cell_type": "markdown",
   "metadata": {},
   "source": [
    "### Possible extensions: \n",
    "\n",
    "° Income and savings \n",
    "\n",
    "° Life style choices (healthy or unhealthy) with different impacts on x.\n",
    "\n",
    "° Varying MC and FC\n",
    "\n",
    "° Age impacting decay of teeth. Say after 50 years, consequences of not going (increase in x if d=0) goes up. Or marginal cost could double.\n",
    "\n",
    "° Implementing a subsidy of one dollar. Does it make more sense to subsidize the marginal or the fixed cost. "
   ]
  }
 ],
 "metadata": {
  "kernelspec": {
   "display_name": "base",
   "language": "python",
   "name": "python3"
  },
  "language_info": {
   "codemirror_mode": {
    "name": "ipython",
    "version": 3
   },
   "file_extension": ".py",
   "mimetype": "text/x-python",
   "name": "python",
   "nbconvert_exporter": "python",
   "pygments_lexer": "ipython3",
   "version": "3.9.16"
  },
  "orig_nbformat": 4
 },
 "nbformat": 4,
 "nbformat_minor": 2
}
