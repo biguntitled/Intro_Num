{
 "cells": [
  {
   "cell_type": "code",
   "execution_count": 29,
   "metadata": {},
   "outputs": [],
   "source": [
    "from HH_Laura import HouseholdSpecializationModelClass as HC\n",
    "from types import SimpleNamespace\n",
    "import numpy as np  \n",
    "from scipy import optimize\n",
    "import ipywidgets as widgets\n",
    "import pandas as pd \n",
    "import matplotlib.pyplot as plt\n",
    "from matplotlib import cm"
   ]
  },
  {
   "cell_type": "code",
   "execution_count": 30,
   "metadata": {},
   "outputs": [
    {
     "ename": "TypeError",
     "evalue": "'float' object cannot be interpreted as an integer",
     "output_type": "error",
     "traceback": [
      "\u001b[0;31m---------------------------------------------------------------------------\u001b[0m",
      "\u001b[0;31mTypeError\u001b[0m                                 Traceback (most recent call last)",
      "\u001b[0;32m/var/folders/0t/yn1q8wm91kzcn3jkq6sw83c80000gn/T/ipykernel_12271/4099614000.py\u001b[0m in \u001b[0;36m<module>\u001b[0;34m\u001b[0m\n\u001b[0;32m----> 1\u001b[0;31m \u001b[0ma\u001b[0m \u001b[0;34m=\u001b[0m \u001b[0mHC\u001b[0m\u001b[0;34m(\u001b[0m\u001b[0;34m)\u001b[0m\u001b[0;34m\u001b[0m\u001b[0;34m\u001b[0m\u001b[0m\n\u001b[0m\u001b[1;32m      2\u001b[0m \u001b[0;34m\u001b[0m\u001b[0m\n\u001b[1;32m      3\u001b[0m \u001b[0;31m# a. Defining parameters\u001b[0m\u001b[0;34m\u001b[0m\u001b[0;34m\u001b[0m\u001b[0m\n\u001b[1;32m      4\u001b[0m \u001b[0;34m\u001b[0m\u001b[0m\n\u001b[1;32m      5\u001b[0m \u001b[0;31m# Define parameters alpha = 0.25 and sigma = 0.5\u001b[0m\u001b[0;34m\u001b[0m\u001b[0;34m\u001b[0m\u001b[0m\n",
      "\u001b[0;32m~/Desktop/MSc in Economics/Python/Intro_Num/HH_Laura.py\u001b[0m in \u001b[0;36m__init__\u001b[0;34m(self)\u001b[0m\n\u001b[1;32m     30\u001b[0m         \u001b[0mpar\u001b[0m\u001b[0;34m.\u001b[0m\u001b[0mwF\u001b[0m \u001b[0;34m=\u001b[0m \u001b[0;36m1.0\u001b[0m\u001b[0;34m\u001b[0m\u001b[0;34m\u001b[0m\u001b[0m\n\u001b[1;32m     31\u001b[0m         \u001b[0mpar\u001b[0m\u001b[0;34m.\u001b[0m\u001b[0mwF_vec\u001b[0m \u001b[0;34m=\u001b[0m \u001b[0mnp\u001b[0m\u001b[0;34m.\u001b[0m\u001b[0mlinspace\u001b[0m\u001b[0;34m(\u001b[0m\u001b[0;36m0.8\u001b[0m\u001b[0;34m,\u001b[0m\u001b[0;36m1.2\u001b[0m\u001b[0;34m,\u001b[0m\u001b[0;36m5\u001b[0m\u001b[0;34m)\u001b[0m\u001b[0;34m\u001b[0m\u001b[0;34m\u001b[0m\u001b[0m\n\u001b[0;32m---> 32\u001b[0;31m \u001b[0;34m\u001b[0m\u001b[0m\n\u001b[0m\u001b[1;32m     33\u001b[0m         \u001b[0;31m# e. targets\u001b[0m\u001b[0;34m\u001b[0m\u001b[0;34m\u001b[0m\u001b[0m\n\u001b[1;32m     34\u001b[0m         \u001b[0mpar\u001b[0m\u001b[0;34m.\u001b[0m\u001b[0mbeta0_target\u001b[0m \u001b[0;34m=\u001b[0m \u001b[0;36m0.4\u001b[0m\u001b[0;34m\u001b[0m\u001b[0;34m\u001b[0m\u001b[0m\n",
      "\u001b[0;32m<__array_function__ internals>\u001b[0m in \u001b[0;36mlinspace\u001b[0;34m(*args, **kwargs)\u001b[0m\n",
      "\u001b[0;32m~/opt/anaconda3/lib/python3.9/site-packages/numpy/core/function_base.py\u001b[0m in \u001b[0;36mlinspace\u001b[0;34m(start, stop, num, endpoint, retstep, dtype, axis)\u001b[0m\n\u001b[1;32m    118\u001b[0m \u001b[0;34m\u001b[0m\u001b[0m\n\u001b[1;32m    119\u001b[0m     \"\"\"\n\u001b[0;32m--> 120\u001b[0;31m     \u001b[0mnum\u001b[0m \u001b[0;34m=\u001b[0m \u001b[0moperator\u001b[0m\u001b[0;34m.\u001b[0m\u001b[0mindex\u001b[0m\u001b[0;34m(\u001b[0m\u001b[0mnum\u001b[0m\u001b[0;34m)\u001b[0m\u001b[0;34m\u001b[0m\u001b[0;34m\u001b[0m\u001b[0m\n\u001b[0m\u001b[1;32m    121\u001b[0m     \u001b[0;32mif\u001b[0m \u001b[0mnum\u001b[0m \u001b[0;34m<\u001b[0m \u001b[0;36m0\u001b[0m\u001b[0;34m:\u001b[0m\u001b[0;34m\u001b[0m\u001b[0;34m\u001b[0m\u001b[0m\n\u001b[1;32m    122\u001b[0m         \u001b[0;32mraise\u001b[0m \u001b[0mValueError\u001b[0m\u001b[0;34m(\u001b[0m\u001b[0;34m\"Number of samples, %s, must be non-negative.\"\u001b[0m \u001b[0;34m%\u001b[0m \u001b[0mnum\u001b[0m\u001b[0;34m)\u001b[0m\u001b[0;34m\u001b[0m\u001b[0;34m\u001b[0m\u001b[0m\n",
      "\u001b[0;31mTypeError\u001b[0m: 'float' object cannot be interpreted as an integer"
     ]
    }
   ],
   "source": [
    "a = HC()\n",
    "\n",
    "# a. Defining parameters\n",
    "\n",
    "# Define parameters alpha = 0.25 and sigma = 0.5\n",
    "a.par.alpha = 0.25\n",
    "a.par.sigma = 0.5  \n",
    "a_1 = a.solve_discrete()\n",
    "\n",
    "HF_1 = a_1.HF\n",
    "HM_1 = a_1.HM\n",
    "\n",
    "HFHM_1=HF_1/HM_1\n",
    "\n",
    "# Define parameters alpha = 0.25 and sigma = 1.0\n",
    "a.par.alpha = 0.25\n",
    "a.par.sigma = 1.0  \n",
    "a_2 = a.solve_discrete()\n",
    "\n",
    "HF_2 = a_2.HF\n",
    "HM_2 = a_2.HM\n",
    "\n",
    "HFHM_2=HF_2/HM_2\n",
    "\n",
    "# Define parameters alpha = 0.25 and sigma = 1.5\n",
    "a.par.alpha = 0.25\n",
    "a.par.sigma = 1.5  \n",
    "a_3 = a.solve_discrete()\n",
    "\n",
    "HF_3 = a_3.HF\n",
    "HM_3 = a_3.HM\n",
    "\n",
    "HFHM_3=HF_3/HM_3\n",
    "\n",
    "# Define parameters alpha = 0.5 and sigma = 0.5\n",
    "a.par.alpha = 0.5\n",
    "a.par.sigma = 0.5\n",
    "a_4 = a.solve_discrete()\n",
    "\n",
    "HF_4 = a_4.HF\n",
    "HM_4 = a_4.HM\n",
    "\n",
    "HFHM_4=HF_4/HM_4\n",
    "\n",
    "# Define parameters alpha = 0.5 and sigma = 1.0\n",
    "a.par.alpha = 0.5\n",
    "a.par.sigma = 1.0  \n",
    "a_5 = a.solve_discrete()\n",
    "\n",
    "HF_5 = a_5.HF\n",
    "HM_5 = a_5.HM\n",
    "\n",
    "HFHM_5=HF_5/HM_5\n",
    "\n",
    "# Define parameters alpha = 0.5 and sigma = 1.5\n",
    "a.par.alpha = 0.5\n",
    "a.par.sigma = 1.5 \n",
    "a_6 = a.solve_discrete()\n",
    "\n",
    "HF_6 = a_6.HF\n",
    "HM_6 = a_6.HM\n",
    "\n",
    "HFHM_6=HF_6/HM_6\n",
    "\n",
    "# Define parameters alpha = 0.75 and sigma = 0.5\n",
    "a.par.alpha = 0.75\n",
    "a.par.sigma = 0.5  \n",
    "a_7 = a.solve_discrete()\n",
    "\n",
    "HF_7 = a_7.HF\n",
    "HM_7 = a_7.HM\n",
    "\n",
    "HFHM_7=HF_7/HM_7\n",
    "\n",
    "# Define parameters alpha = 0.75 and sigma = 1.0\n",
    "a.par.alpha = 0.75\n",
    "a.par.sigma = 1.0  \n",
    "a_8 = a.solve_discrete()\n",
    "\n",
    "HF_8 = a_8.HF\n",
    "HM_8 = a_8.HM\n",
    "\n",
    "HFHM_8=HF_8/HM_8\n",
    "\n",
    "# Define parameters alpha = 0.75 and sigma = 1.5\n",
    "a.par.alpha = 0.75\n",
    "a.par.sigma = 1.5  \n",
    "a_9 = a.solve_discrete()\n",
    "\n",
    "HF_9 = a_9.HF\n",
    "HM_9 = a_9.HM\n",
    "\n",
    "HFHM_9=HF_9/HM_9"
   ]
  },
  {
   "cell_type": "code",
   "execution_count": null,
   "metadata": {},
   "outputs": [],
   "source": [
    "print(HFHM_1)"
   ]
  },
  {
   "cell_type": "code",
   "execution_count": null,
   "metadata": {},
   "outputs": [],
   "source": [
    "print(HFHM_1)\n",
    "print(HFHM_2)\n",
    "print(HFHM_3)\n",
    "print(HFHM_4)\n",
    "print(HFHM_5)\n",
    "print(HFHM_6)\n",
    "print(HFHM_7)\n",
    "print(HFHM_8)\n",
    "print(HFHM_9)"
   ]
  },
  {
   "cell_type": "code",
   "execution_count": null,
   "metadata": {},
   "outputs": [],
   "source": [
    "#define numpy array\n",
    "x = np.array([HFHM_1, HFHM_2, HFHM_3, HFHM_4, HFHM_5, HFHM_6, HFHM_7, HFHM_8, HFHM_9]) \n",
    "\n",
    "plt.plot(x)"
   ]
  },
  {
   "cell_type": "code",
   "execution_count": null,
   "metadata": {},
   "outputs": [],
   "source": [
    "HFHM = np.array([HFHM_1, HFHM_2, HFHM_3, HFHM_4, HFHM_5, HFHM_6, HFHM_7, HFHM_8, HFHM_9]).reshape(3,3)\n",
    "alpha = np.array([0.25, 0.25, 0.25, 0.5, 0.5, 0.5, 0.75, 0.75, 0.75]).reshape(3,3)\n",
    "sigma = np.array([0.5, 1, 1.5, 0.5, 1, 1.5, 0.5, 1, 1.5]).reshape(3,3)\n",
    "\n",
    "# a. plot\n",
    "fig = plt.figure()\n",
    "ax = fig.add_subplot(1,1,1,projection='3d')\n",
    "ax.plot_surface(alpha,sigma,HFHM,cmap=cm.jet)\n",
    "\n",
    "# b. add labels\n",
    "ax.set_xlabel('alpha')\n",
    "ax.set_ylabel('sigma')\n",
    "ax.set_zlabel('HF/HM')\n",
    "\n",
    "# c. invert xaxis\n",
    "ax.invert_xaxis()\n",
    "\n",
    "# d. add title\n",
    "ax.set_title('HF/HM for different alpha and sigma')\n",
    "\n",
    "plt.show()"
   ]
  },
  {
   "attachments": {},
   "cell_type": "markdown",
   "metadata": {},
   "source": [
    "### 2. Plot log HF/HM against log WF/WM for WF(0.8, 0.9, 1.0, 1.1, 1.2)"
   ]
  },
  {
   "cell_type": "code",
   "execution_count": null,
   "metadata": {},
   "outputs": [],
   "source": [
    "x = np.array([HFHM_1, HFHM_2, HFHM_3, HFHM_4, HFHM_5, HFHM_6, HFHM_7, HFHM_8, HFHM_9]) "
   ]
  },
  {
   "cell_type": "code",
   "execution_count": null,
   "metadata": {},
   "outputs": [],
   "source": [
    "#np.linspace(0.8, 0.9, 1.0, 1.1, 1.2)\n",
    "a.par.wF = a.par.wF_vec\n",
    "\n",
    "# Values of wF\n",
    "wF_values = np.linspace(0.8, 1.2, 5)\n",
    "\n",
    "# Function to calculate HF/HM for a certain value of wF\n",
    "def calc_HF_HM(wF):\n",
    "    a.par.wF = wF\n",
    "\n",
    "    # Solve model \n",
    "    opt = a.solve_discrete()\n",
    "\n",
    "    # Return HF/HM\n",
    "    return opt.HF / opt.HM\n",
    "\n",
    "# Calculate result for diferent values of wF\n",
    "HF_HM_values = [calc_HF_HM(wF) for wF in wF_values]\n",
    "\n",
    "# Plot results\n",
    "fig, ax = plt.subplots()\n",
    "ax.plot(np.log(wF_values/ a.par.wM), np.log(HF_HM_values))\n",
    "ax.set_xlabel('Log(wF/wM)')\n",
    "ax.set_ylabel('Log(HF/HM)')\n",
    "ax.set_title('Relationship between HF/HM and wF/wM')\n",
    "plt.show()\n"
   ]
  },
  {
   "attachments": {},
   "cell_type": "markdown",
   "metadata": {},
   "source": [
    "### 3. Plot log HF/HM against log WF/WM for WF(0.8, 0.9, 1.9, 1.1, 1.2) assuming that the choice set is continuous."
   ]
  },
  {
   "cell_type": "code",
   "execution_count": null,
   "metadata": {},
   "outputs": [],
   "source": [
    "# We first need to solve the model continuously \"solve()\" for each value of wF on the range. \n",
    "# We then modify the function \"solve()\"to solve the model for a given value of wF and return the ratio of female to male home production.\n",
    "# Then, we can use a loop to iterate over the values of wF and store the results in two arrays, one for log(wF/wM) and the other for log(HF/HM).\n",
    "\n"
   ]
  },
  {
   "cell_type": "code",
   "execution_count": null,
   "metadata": {},
   "outputs": [],
   "source": [
    "result = a.solve_continuous()\n",
    "print(result)\n"
   ]
  }
 ],
 "metadata": {
  "kernelspec": {
   "display_name": "base",
   "language": "python",
   "name": "python3"
  },
  "language_info": {
   "codemirror_mode": {
    "name": "ipython",
    "version": 3
   },
   "file_extension": ".py",
   "mimetype": "text/x-python",
   "name": "python",
   "nbconvert_exporter": "python",
   "pygments_lexer": "ipython3",
   "version": "3.9.13"
  },
  "orig_nbformat": 4,
  "vscode": {
   "interpreter": {
    "hash": "7e955f0f740a88143167821a8b0fbd15a506d043cd936f8554468bc13302d823"
   }
  }
 },
 "nbformat": 4,
 "nbformat_minor": 2
}
