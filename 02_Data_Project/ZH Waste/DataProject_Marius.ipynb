{
 "cells": [
  {
   "cell_type": "code",
   "execution_count": 2,
   "metadata": {},
   "outputs": [],
   "source": [
    "# For Venn diagrams\n",
    "%pip install matplotlib-venn\n",
    "\n",
    "import pandas as pd\n",
    "import matplotlib.pyplot as plt\n",
    "plt.rcParams.update({\"axes.grid\":True,\"grid.color\":\"black\",\"grid.alpha\":\"0.25\",\"grid.linestyle\":\"--\"})\n",
    "plt.rcParams.update({'font.size': 14})\n",
    "from matplotlib_venn import venn2 # `pip install matplotlib-venn`"
   ]
  },
  {
   "attachments": {},
   "cell_type": "markdown",
   "metadata": {},
   "source": [
    "Checking that we are using the correct data-subfolder and that it consist of the data we want' to work with"
   ]
  },
  {
   "cell_type": "code",
   "execution_count": 7,
   "metadata": {},
   "outputs": [
    {
     "data": {
      "text/plain": [
       "['population_2.xlsx', 'population_px.px', 'Prices.csv', 'Quantity.csv']"
      ]
     },
     "execution_count": 7,
     "metadata": {},
     "output_type": "execute_result"
    }
   ],
   "source": [
    "import os \n",
    "\n",
    "# Using assert to check that paths exist on computer.\n",
    "assert os.path.isdir('data/')\n",
    "assert os.path.isfile('data/population_2.xlsx')\n",
    "assert os.path.isfile('data/Prices.csv')\n",
    "assert os.path.isfile('data/Quantity.csv')\n",
    "\n",
    "# Print everything in data\n",
    "os.listdir('data/')"
   ]
  },
  {
   "attachments": {},
   "cell_type": "markdown",
   "metadata": {},
   "source": [
    "Reading in data "
   ]
  },
  {
   "cell_type": "code",
   "execution_count": 5,
   "metadata": {},
   "outputs": [],
   "source": [
    "pop = pd.read_excel('Data/population_2.xlsx')\n",
    "p = pd.read_csv('Data/Prices.csv')\n",
    "q = pd.read_csv('Data/Quantity.csv')"
   ]
  },
  {
   "cell_type": "code",
   "execution_count": 9,
   "metadata": {},
   "outputs": [
    {
     "data": {
      "text/html": [
       "<div>\n",
       "<style scoped>\n",
       "    .dataframe tbody tr th:only-of-type {\n",
       "        vertical-align: middle;\n",
       "    }\n",
       "\n",
       "    .dataframe tbody tr th {\n",
       "        vertical-align: top;\n",
       "    }\n",
       "\n",
       "    .dataframe thead th {\n",
       "        text-align: right;\n",
       "    }\n",
       "</style>\n",
       "<table border=\"1\" class=\"dataframe\">\n",
       "  <thead>\n",
       "    <tr style=\"text-align: right;\">\n",
       "      <th></th>\n",
       "      <th>Demographic balance by institutional units</th>\n",
       "      <th>Unnamed: 1</th>\n",
       "      <th>Unnamed: 2</th>\n",
       "      <th>Unnamed: 3</th>\n",
       "      <th>Unnamed: 4</th>\n",
       "      <th>Unnamed: 5</th>\n",
       "    </tr>\n",
       "  </thead>\n",
       "  <tbody>\n",
       "    <tr>\n",
       "      <th>0</th>\n",
       "      <td>NaN</td>\n",
       "      <td>NaN</td>\n",
       "      <td>NaN</td>\n",
       "      <td>NaN</td>\n",
       "      <td>NaN</td>\n",
       "      <td>NaN</td>\n",
       "    </tr>\n",
       "    <tr>\n",
       "      <th>1</th>\n",
       "      <td>NaN</td>\n",
       "      <td>NaN</td>\n",
       "      <td>NaN</td>\n",
       "      <td>NaN</td>\n",
       "      <td>NaN</td>\n",
       "      <td>Population on 31 December</td>\n",
       "    </tr>\n",
       "    <tr>\n",
       "      <th>2</th>\n",
       "      <td>2000</td>\n",
       "      <td>2000.0</td>\n",
       "      <td>- Zürich</td>\n",
       "      <td>Citizenship (category) - total</td>\n",
       "      <td>Sex - total</td>\n",
       "      <td>1211647</td>\n",
       "    </tr>\n",
       "    <tr>\n",
       "      <th>3</th>\n",
       "      <td>NaN</td>\n",
       "      <td>NaN</td>\n",
       "      <td>&gt;&gt; Bezirk Affoltern</td>\n",
       "      <td>Citizenship (category) - total</td>\n",
       "      <td>Sex - total</td>\n",
       "      <td>41455</td>\n",
       "    </tr>\n",
       "    <tr>\n",
       "      <th>4</th>\n",
       "      <td>NaN</td>\n",
       "      <td>NaN</td>\n",
       "      <td>......0001 Aeugst am Albis</td>\n",
       "      <td>Citizenship (category) - total</td>\n",
       "      <td>Sex - total</td>\n",
       "      <td>1517</td>\n",
       "    </tr>\n",
       "    <tr>\n",
       "      <th>5</th>\n",
       "      <td>NaN</td>\n",
       "      <td>NaN</td>\n",
       "      <td>......0002 Affoltern am Albis</td>\n",
       "      <td>Citizenship (category) - total</td>\n",
       "      <td>Sex - total</td>\n",
       "      <td>9933</td>\n",
       "    </tr>\n",
       "    <tr>\n",
       "      <th>6</th>\n",
       "      <td>NaN</td>\n",
       "      <td>NaN</td>\n",
       "      <td>......0003 Bonstetten</td>\n",
       "      <td>Citizenship (category) - total</td>\n",
       "      <td>Sex - total</td>\n",
       "      <td>3896</td>\n",
       "    </tr>\n",
       "    <tr>\n",
       "      <th>7</th>\n",
       "      <td>NaN</td>\n",
       "      <td>NaN</td>\n",
       "      <td>......0004 Hausen am Albis</td>\n",
       "      <td>Citizenship (category) - total</td>\n",
       "      <td>Sex - total</td>\n",
       "      <td>3038</td>\n",
       "    </tr>\n",
       "    <tr>\n",
       "      <th>8</th>\n",
       "      <td>NaN</td>\n",
       "      <td>NaN</td>\n",
       "      <td>......0005 Hedingen</td>\n",
       "      <td>Citizenship (category) - total</td>\n",
       "      <td>Sex - total</td>\n",
       "      <td>2994</td>\n",
       "    </tr>\n",
       "    <tr>\n",
       "      <th>9</th>\n",
       "      <td>NaN</td>\n",
       "      <td>NaN</td>\n",
       "      <td>......0006 Kappel am Albis</td>\n",
       "      <td>Citizenship (category) - total</td>\n",
       "      <td>Sex - total</td>\n",
       "      <td>867</td>\n",
       "    </tr>\n",
       "  </tbody>\n",
       "</table>\n",
       "</div>"
      ],
      "text/plain": [
       "  Demographic balance by institutional units  Unnamed: 1  \\\n",
       "0                                        NaN         NaN   \n",
       "1                                        NaN         NaN   \n",
       "2                                       2000      2000.0   \n",
       "3                                        NaN         NaN   \n",
       "4                                        NaN         NaN   \n",
       "5                                        NaN         NaN   \n",
       "6                                        NaN         NaN   \n",
       "7                                        NaN         NaN   \n",
       "8                                        NaN         NaN   \n",
       "9                                        NaN         NaN   \n",
       "\n",
       "                      Unnamed: 2                      Unnamed: 3   Unnamed: 4  \\\n",
       "0                            NaN                             NaN          NaN   \n",
       "1                            NaN                             NaN          NaN   \n",
       "2                       - Zürich  Citizenship (category) - total  Sex - total   \n",
       "3            >> Bezirk Affoltern  Citizenship (category) - total  Sex - total   \n",
       "4     ......0001 Aeugst am Albis  Citizenship (category) - total  Sex - total   \n",
       "5  ......0002 Affoltern am Albis  Citizenship (category) - total  Sex - total   \n",
       "6          ......0003 Bonstetten  Citizenship (category) - total  Sex - total   \n",
       "7     ......0004 Hausen am Albis  Citizenship (category) - total  Sex - total   \n",
       "8            ......0005 Hedingen  Citizenship (category) - total  Sex - total   \n",
       "9     ......0006 Kappel am Albis  Citizenship (category) - total  Sex - total   \n",
       "\n",
       "                  Unnamed: 5  \n",
       "0                        NaN  \n",
       "1  Population on 31 December  \n",
       "2                    1211647  \n",
       "3                      41455  \n",
       "4                       1517  \n",
       "5                       9933  \n",
       "6                       3896  \n",
       "7                       3038  \n",
       "8                       2994  \n",
       "9                        867  "
      ]
     },
     "execution_count": 9,
     "metadata": {},
     "output_type": "execute_result"
    }
   ],
   "source": [
    "pop.head(10)"
   ]
  }
 ],
 "metadata": {
  "kernelspec": {
   "display_name": "base",
   "language": "python",
   "name": "python3"
  },
  "language_info": {
   "codemirror_mode": {
    "name": "ipython",
    "version": 3
   },
   "file_extension": ".py",
   "mimetype": "text/x-python",
   "name": "python",
   "nbconvert_exporter": "python",
   "pygments_lexer": "ipython3",
   "version": "3.9.16"
  },
  "orig_nbformat": 4,
  "vscode": {
   "interpreter": {
    "hash": "3a3d8ce103517c0eff4a4cdd3845d26e3393bafb2f4718f9c642b57a28f3097f"
   }
  }
 },
 "nbformat": 4,
 "nbformat_minor": 2
}
