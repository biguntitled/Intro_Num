{
 "cells": [
  {
   "cell_type": "code",
   "execution_count": 12,
   "metadata": {},
   "outputs": [
    {
     "name": "stdout",
     "output_type": "stream",
     "text": [
      "The autoreload extension is already loaded. To reload it, use:\n",
      "  %reload_ext autoreload\n"
     ]
    }
   ],
   "source": [
    "import numpy as np\n",
    "import pandas as pd\n",
    "import matplotlib.pyplot as plt\n",
    "from matplotlib import cm\n",
    "%load_ext autoreload\n",
    "%autoreload 2"
   ]
  },
  {
   "attachments": {},
   "cell_type": "markdown",
   "metadata": {},
   "source": [
    "# Data Project"
   ]
  },
  {
   "attachments": {},
   "cell_type": "markdown",
   "metadata": {},
   "source": [
    "## Import and Merger"
   ]
  },
  {
   "cell_type": "code",
   "execution_count": 13,
   "metadata": {},
   "outputs": [
    {
     "name": "stdout",
     "output_type": "stream",
     "text": [
      "Index(['Year', 'ID', 'Municipality', 'Category', 'Price', 'Currency'], dtype='object') Index(['Year', 'ID', 'Municipality', 'Type', 'Value_t', 'Unit'], dtype='object')\n"
     ]
    }
   ],
   "source": [
    "prices = pd.read_csv('Prices.csv') \n",
    "quantity = pd.read_csv('Quantity.csv')\n",
    "print(prices.columns, quantity.columns)"
   ]
  },
  {
   "cell_type": "code",
   "execution_count": 14,
   "metadata": {},
   "outputs": [
    {
     "name": "stdout",
     "output_type": "stream",
     "text": [
      "The quantity data set covers 2000 until 2021 and contains 298 municipalities\n",
      "The prices data set covers 2000 until 2022 and contains 298 municipalities\n"
     ]
    }
   ],
   "source": [
    "print('The quantity data set covers', min(quantity['Year']), 'until', max(quantity['Year']),'and contains',max(quantity['ID']),'municipalities')\n",
    "print('The prices data set covers', min(prices['Year']), 'until', max(prices['Year']), 'and contains',max(prices['ID']),'municipalities')"
   ]
  },
  {
   "cell_type": "code",
   "execution_count": 20,
   "metadata": {},
   "outputs": [],
   "source": [
    "merged_data = pd.merge(prices, quantity, on=['Year', 'ID'], how='left')\n"
   ]
  },
  {
   "cell_type": "code",
   "execution_count": 19,
   "metadata": {},
   "outputs": [
    {
     "data": {
      "text/plain": [
       "Year  Municipality    ID \n",
       "2000  Adlikon         21        272.0\n",
       "      Adliswil        131      1713.0\n",
       "      Aesch           241       881.0\n",
       "      Aeugst a.A.     1         594.0\n",
       "      Affoltern a.A.  2        4152.0\n",
       "                               ...   \n",
       "2021  Wädenswil       293     11766.0\n",
       "      Zell            231      3323.0\n",
       "      Zollikon        161      4065.0\n",
       "      Zumikon         160      2474.0\n",
       "      Zürich          261    160726.0\n",
       "Name: Value_t, Length: 3564, dtype: float64"
      ]
     },
     "execution_count": 19,
     "metadata": {},
     "output_type": "execute_result"
    }
   ],
   "source": [
    "quantity.groupby(['Year', 'Municipality', 'ID'])['Value_t'].sum()"
   ]
  },
  {
   "cell_type": "code",
   "execution_count": null,
   "metadata": {},
   "outputs": [],
   "source": []
  }
 ],
 "metadata": {
  "kernelspec": {
   "display_name": "base",
   "language": "python",
   "name": "python3"
  },
  "language_info": {
   "codemirror_mode": {
    "name": "ipython",
    "version": 3
   },
   "file_extension": ".py",
   "mimetype": "text/x-python",
   "name": "python",
   "nbconvert_exporter": "python",
   "pygments_lexer": "ipython3",
   "version": "3.9.13"
  },
  "orig_nbformat": 4
 },
 "nbformat": 4,
 "nbformat_minor": 2
}
